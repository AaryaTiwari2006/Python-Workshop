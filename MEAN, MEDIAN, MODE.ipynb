{
 "cells": [
  {
   "cell_type": "markdown",
   "id": "8728534f-a1ba-4378-abcd-cef00c61c283",
   "metadata": {},
   "source": [
    "# MEAN"
   ]
  },
  {
   "cell_type": "code",
   "execution_count": 2,
   "id": "867aa236-5dea-4a8e-93f0-58808fd4d952",
   "metadata": {},
   "outputs": [
    {
     "name": "stdout",
     "output_type": "stream",
     "text": [
      "mean: 40.0\n"
     ]
    }
   ],
   "source": [
    "import numpy as np\n",
    "collection= ([20,30,40,50,60])\n",
    "mean_value=np.mean(collection)\n",
    "\n",
    "print(\"mean:\", mean_value)"
   ]
  },
  {
   "cell_type": "code",
   "execution_count": 8,
   "id": "eee0c39c-1a83-4661-9da2-e57670b40c98",
   "metadata": {},
   "outputs": [
    {
     "name": "stdout",
     "output_type": "stream",
     "text": [
      "mean: 40.0\n"
     ]
    }
   ],
   "source": [
    "collection = ([20,30,40,50,60])\n",
    "total=0\n",
    "for num in collection:\n",
    " total += num\n",
    "mean_value = (total) / len(collection)\n",
    "print(\"mean:\", mean_value)"
   ]
  },
  {
   "cell_type": "markdown",
   "id": "620412fc-c62c-4465-a335-bc1f904e518e",
   "metadata": {},
   "source": [
    "# MEDIAN\n"
   ]
  },
  {
   "cell_type": "code",
   "execution_count": 14,
   "id": "298d99a2-4fc4-4fa2-8623-e35fa5437eb4",
   "metadata": {},
   "outputs": [
    {
     "name": "stdout",
     "output_type": "stream",
     "text": [
      "median: 45.0\n"
     ]
    }
   ],
   "source": [
    "collection =([40,30,20,50,60,70])\n",
    "collection.sort()\n",
    "n=len(collection)\n",
    "if n % 2 == 0:\n",
    "   median_value = (collection[n//2-1]+collection[n//2]) / 2\n",
    "else:\n",
    "    median_value= colection[n//2]\n",
    "print(\"median:\", median_value)"
   ]
  },
  {
   "cell_type": "markdown",
   "id": "7f4a3962-5893-449a-92e5-3716d023efe0",
   "metadata": {},
   "source": [
    "# MODE"
   ]
  },
  {
   "cell_type": "code",
   "execution_count": 20,
   "id": "dd54520a-fdec-4571-a7cc-dcaa7f09bd80",
   "metadata": {},
   "outputs": [
    {
     "name": "stdout",
     "output_type": "stream",
     "text": [
      "collection: [10, 20, 30, 40, 20, 30, 20, 20, 10]\n",
      "mode: 20\n"
     ]
    }
   ],
   "source": [
    "collection = ([10,20,30,40,20,30,20,20,10])\n",
    "logic = {}\n",
    "for num in collection:\n",
    "    if num in logic:\n",
    "        logic[num] += 1\n",
    "    else:\n",
    "        logic[num] = 1\n",
    "        \n",
    "max_logic = 0\n",
    "mode_value = None\n",
    "for num in logic:\n",
    "    if logic[num] > max_logic:\n",
    "        max_logic = logic[num]\n",
    "        mode_value = num\n",
    "print(\"collection:\", collection)\n",
    "print(\"mode:\", mode_value)"
   ]
  },
  {
   "cell_type": "markdown",
   "id": "cd688a0a-8fb4-4d02-94d4-00a4506bd59b",
   "metadata": {},
   "source": [
    "# STANDERD DEVIATION\n"
   ]
  },
  {
   "cell_type": "code",
   "execution_count": 23,
   "id": "802541ca-6909-4b90-aa7b-8d17fc953ffa",
   "metadata": {},
   "outputs": [
    {
     "name": "stdout",
     "output_type": "stream",
     "text": [
      "collection: [10, 20, 30, 40, 50]\n",
      "standard deviation: 14.142135623730951\n"
     ]
    }
   ],
   "source": [
    "collection = [10,20,30,40,50]\n",
    "total=0\n",
    "for num in collection:\n",
    "    total+=num\n",
    "mean = total / len(collection)\n",
    "sum_squared_diff = 0\n",
    "for num in collection:\n",
    "    sum_squared_diff +=(num - mean) ** 2\n",
    "variance = sum_squared_diff / len(collection)\n",
    "std_dev = variance ** 0.5\n",
    "print(\"collection:\", collection)\n",
    "print(\"standard deviation:\", std_dev)\n",
    "    "
   ]
  },
  {
   "cell_type": "code",
   "execution_count": 27,
   "id": "b3803ade-87f5-446b-8a6e-f1460040adc4",
   "metadata": {},
   "outputs": [
    {
     "name": "stdout",
     "output_type": "stream",
     "text": [
      "standerd deviation: 14.142135623730951\n"
     ]
    }
   ],
   "source": [
    "import numpy as np\n",
    "collection = [10,20,30,40,50]\n",
    "std_dev = np.std(collection)\n",
    "print(\"standerd deviation:\", std_dev)\n"
   ]
  },
  {
   "cell_type": "markdown",
   "id": "bc89dcf6-497c-4240-9ede-445d1c8a5312",
   "metadata": {},
   "source": [
    "# PERCENTAGE"
   ]
  },
  {
   "cell_type": "code",
   "execution_count": 30,
   "id": "98482e11-0a0a-4185-96ae-1069718bf32f",
   "metadata": {},
   "outputs": [
    {
     "name": "stdout",
     "output_type": "stream",
     "text": [
      "Marks obtained: 450\n",
      "Total Number: 500\n",
      "Percentage Obtained: 90.0\n"
     ]
    }
   ],
   "source": [
    "marks_obt = 450\n",
    "actual_marks = 500\n",
    "percentage = (marks_obt/actual_marks)*100\n",
    "print(\"Marks obtained:\", marks_obt)\n",
    "print(\"Total Number:\", actual_marks)\n",
    "print(\"Percentage Obtained:\", percentage)"
   ]
  },
  {
   "cell_type": "code",
   "execution_count": null,
   "id": "6b80c0f8-b10a-4c8d-a638-9768190068f1",
   "metadata": {},
   "outputs": [],
   "source": []
  }
 ],
 "metadata": {
  "kernelspec": {
   "display_name": "Python 3 (ipykernel)",
   "language": "python",
   "name": "python3"
  },
  "language_info": {
   "codemirror_mode": {
    "name": "ipython",
    "version": 3
   },
   "file_extension": ".py",
   "mimetype": "text/x-python",
   "name": "python",
   "nbconvert_exporter": "python",
   "pygments_lexer": "ipython3",
   "version": "3.12.4"
  }
 },
 "nbformat": 4,
 "nbformat_minor": 5
}
