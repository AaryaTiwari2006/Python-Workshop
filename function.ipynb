{
 "cells": [
  {
   "cell_type": "code",
   "execution_count": 8,
   "id": "61286202-1dc0-4f16-afb7-d2483bb0f90d",
   "metadata": {},
   "outputs": [
    {
     "name": "stdout",
     "output_type": "stream",
     "text": [
      "hello, aarya!\n"
     ]
    }
   ],
   "source": [
    "def say_hello():   #there is no parameter\n",
    "    print(\"hello, aarya!\")\n",
    "say_hello()    #calling function"
   ]
  },
  {
   "cell_type": "code",
   "execution_count": 11,
   "id": "8ba857c6-a141-4a83-bfcc-ed89a83279cd",
   "metadata": {},
   "outputs": [
    {
     "name": "stdout",
     "output_type": "stream",
     "text": [
      "The sum is: 8\n"
     ]
    }
   ],
   "source": [
    "def add(a,b):\n",
    "    return a + b\n",
    "result = add(5,3)\n",
    "print(\"The sum is:\", result)"
   ]
  },
  {
   "cell_type": "code",
   "execution_count": 14,
   "id": "4e72f8c6-a95c-4fd1-942a-bd706745b75e",
   "metadata": {},
   "outputs": [
    {
     "name": "stdout",
     "output_type": "stream",
     "text": [
      "Hello,Ali!\n",
      "Hello,Sam!\n"
     ]
    }
   ],
   "source": [
    "def greet(name= \"Ali\"):\n",
    "    print(\"Hello,\" + name + \"!\")\n",
    "greet()    #uses default\n",
    "greet(\"Sam\")  #uses privided value"
   ]
  },
  {
   "cell_type": "code",
   "execution_count": 18,
   "id": "be0272df-e6a4-4ec5-a463-f30cec5312e7",
   "metadata": {},
   "outputs": [
    {
     "name": "stdout",
     "output_type": "stream",
     "text": [
      "Hi,AARYA!\n"
     ]
    }
   ],
   "source": [
    "def greet(name):\n",
    "    print(\"Hi,\" + name + \"!\")\n",
    "greet(\"AARYA\")    "
   ]
  },
  {
   "cell_type": "code",
   "execution_count": 17,
   "id": "ad89f4d5-3707-438f-9585-51d462b30fb5",
   "metadata": {},
   "outputs": [
    {
     "name": "stdout",
     "output_type": "stream",
     "text": [
      "True\n",
      "False\n"
     ]
    }
   ],
   "source": [
    "def is_even(number):\n",
    "    if number % 2 == 0:\n",
    "        return True\n",
    "    else:\n",
    "        return False\n",
    "print(is_even(4))        \n",
    "print(is_even(7))"
   ]
  },
  {
   "cell_type": "markdown",
   "id": "366c3510-ba1c-4564-8880-c0a3025b1e31",
   "metadata": {},
   "source": [
    "### Function that return max value"
   ]
  },
  {
   "cell_type": "code",
   "execution_count": 19,
   "id": "719da868-1c3d-4006-bc01-c652fc688bb1",
   "metadata": {},
   "outputs": [
    {
     "name": "stdout",
     "output_type": "stream",
     "text": [
      "30\n"
     ]
    }
   ],
   "source": [
    "def find_max(a,b,c):\n",
    "    return max(a,b,c)\n",
    "print(find_max(10,25,30))    "
   ]
  },
  {
   "cell_type": "markdown",
   "id": "07c83e00-f150-4de3-9e87-a73552e487db",
   "metadata": {},
   "source": [
    "### NUMBER GAME"
   ]
  },
  {
   "cell_type": "code",
   "execution_count": 3,
   "id": "225c29b7-a6ae-43bc-9362-6f9ea3af4652",
   "metadata": {},
   "outputs": [
    {
     "name": "stdin",
     "output_type": "stream",
     "text": [
      "Guess a number between 1 and 10: 8\n"
     ]
    },
    {
     "name": "stdout",
     "output_type": "stream",
     "text": [
      " Wrong! The number was 7\n"
     ]
    }
   ],
   "source": [
    "import random\n",
    "def guess_the_number():\n",
    "    number = random.randint(1,10)\n",
    "    guess = int(input(\"Guess a number between 1 and 10:\"))\n",
    "\n",
    "    if guess == number:\n",
    "       print(\"Correct! You guessed right!\")\n",
    "    else:\n",
    "       print(f\" Wrong! The number was {number}\")\n",
    "guess_the_number()\n",
    "\n"
   ]
  },
  {
   "cell_type": "markdown",
   "id": "f9d03668-4408-404a-afab-50e85db84e7b",
   "metadata": {},
   "source": [
    "### Dice Roller\n"
   ]
  },
  {
   "cell_type": "code",
   "execution_count": 26,
   "id": "764350a5-3ea8-487f-9e94-da2e8c745a1e",
   "metadata": {},
   "outputs": [
    {
     "name": "stdin",
     "output_type": "stream",
     "text": [
      "Press Enter to roll the dice... \n"
     ]
    },
    {
     "name": "stdout",
     "output_type": "stream",
     "text": [
      "You rolled a 5\n"
     ]
    }
   ],
   "source": [
    "import random\n",
    "def roll_dice():\n",
    "    input(\"Press Enter to roll the dice...\")\n",
    "    dice = random.randint(1,6)\n",
    "    print(f\"You rolled a {dice}\")\n",
    "roll_dice()    "
   ]
  },
  {
   "cell_type": "code",
   "execution_count": 32,
   "id": "a295c71d-d21b-4219-b0d0-d0670c0b07d3",
   "metadata": {},
   "outputs": [
    {
     "name": "stdin",
     "output_type": "stream",
     "text": [
      "press Enter to roll the dice... \n"
     ]
    },
    {
     "name": "stdout",
     "output_type": "stream",
     "text": [
      "You rolled: 4\n"
     ]
    },
    {
     "name": "stdin",
     "output_type": "stream",
     "text": [
      "Roll again? (y/n): \n"
     ]
    }
   ],
   "source": [
    "import random\n",
    "def roll_dice():\n",
    "    return random.randint(1,6)\n",
    "while True:\n",
    "    input(\"press Enter to roll the dice...\")\n",
    "    print(\"You rolled:\", roll_dice())\n",
    "    again = input(\"Roll again? (y/n):\")\n",
    "    if again.lower() != 'y' :\n",
    "        break"
   ]
  },
  {
   "cell_type": "code",
   "execution_count": 35,
   "id": "c64f1dae-383d-4aef-abb5-36ed24f8b896",
   "metadata": {},
   "outputs": [],
   "source": [
    "import tkinter as tk\n",
    "import random"
   ]
  },
  {
   "cell_type": "code",
   "execution_count": 3,
   "id": "96b6acbd-77fa-480c-983c-b89ec69ddd73",
   "metadata": {},
   "outputs": [],
   "source": [
    "import tkinter as tk\n",
    "import random\n",
    "def roll_dice():\n",
    "    dice_value = random.randint(1,6)\n",
    "    label_result.config(text=f\"You rolled: {dice_value}\")\n",
    "    dice_label.config(text=dice_unicode [dice_value])\n",
    "dice_unicode = {\n",
    "    1: \"\\u2680\",\n",
    "    2: \"\\u2681\",\n",
    "    3: \"\\u2682\",\n",
    "    4: \"\\u2683\",\n",
    "    5: \"\\u2684\",\n",
    "    6: \"\\u2685\"\n",
    "}    \n",
    "\n",
    "root = tk.Tk()\n",
    "root.title(\"DICE ROLLER\")\n",
    "root.geometry(\"300x200\")\n",
    "\n",
    "dice_label = tk.Label(root, text=\"\", font=(\"Helvetica\", 100))\n",
    "dice_label.pack()\n",
    "\n",
    "label_result = tk.Label(root, text=\"Click to roll the dice!\", font=(\"Helvetica\", 14))\n",
    "label_result.pack(pady=10)\n",
    "\n",
    "roll_button = tk.Button(root, text=\"Roll Dice\", command=roll_dice, font=(\"Helvetica\", 12))\n",
    "roll_button.pack()\n",
    "\n",
    "root.mainloop()\n"
   ]
  },
  {
   "cell_type": "markdown",
   "id": "c4421a5c-4d36-403a-9f37-5f3d120a2a02",
   "metadata": {},
   "source": [
    "### compare similarity\n"
   ]
  },
  {
   "cell_type": "code",
   "execution_count": null,
   "id": "0cdc0fea-38da-4648-badd-5752fb88695f",
   "metadata": {},
   "outputs": [],
   "source": [
    "file1_path = input(\"enter the path of first file :\")\n",
    "file2_path = input(\"enter the path of second file :\")\n",
    "\n",
    "with open(file1_path, 'r') as file1:\n",
    "    text1 = file1.read()\n",
    "with open(file2_path, 'r') as file2:\n",
    "    text2 = file2.read()\n",
    "total_char = max(len(text1),len(text2))\n",
    "same_char=0\n",
    "\n",
    "for i in range(total_char):\n",
    "    if i < len(text1) and i < len(text2):\n",
    "        if text1[i] == text2[i]:\n",
    "            same_char += 1\n",
    "\n",
    "if total_char > 0:\n",
    "    similarity = (same_char / total_char) * 100\n",
    "else:\n",
    "    similarity = 0\n",
    "print(f\"The files are {similarity}% similar based on characters.\")"
   ]
  },
  {
   "cell_type": "code",
   "execution_count": null,
   "id": "c13b995b-4abd-42ec-ab67-e274e16c392c",
   "metadata": {},
   "outputs": [],
   "source": []
  }
 ],
 "metadata": {
  "kernelspec": {
   "display_name": "Python 3 (ipykernel)",
   "language": "python",
   "name": "python3"
  },
  "language_info": {
   "codemirror_mode": {
    "name": "ipython",
    "version": 3
   },
   "file_extension": ".py",
   "mimetype": "text/x-python",
   "name": "python",
   "nbconvert_exporter": "python",
   "pygments_lexer": "ipython3",
   "version": "3.13.5"
  }
 },
 "nbformat": 4,
 "nbformat_minor": 5
}
