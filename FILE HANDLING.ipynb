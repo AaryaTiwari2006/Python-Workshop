{
 "cells": [
  {
   "cell_type": "markdown",
   "id": "7f77126c-fd98-4818-811d-1dc299fc05bf",
   "metadata": {},
   "source": [
    "# FILE HANDLING\n"
   ]
  },
  {
   "cell_type": "markdown",
   "id": "779bcc15-ae32-4711-8b37-8e230a2e172b",
   "metadata": {},
   "source": [
    "## Read file"
   ]
  },
  {
   "cell_type": "code",
   "execution_count": 15,
   "id": "fcf2f55d-8f70-4fcf-b505-c92a705d3ba6",
   "metadata": {},
   "outputs": [
    {
     "name": "stdout",
     "output_type": "stream",
     "text": [
      "hi my name is lab\n",
      "im lab of Ai&ds dept\n",
      "my lab has many desktop\n",
      "its centralised AC \n",
      "ppppppppppppppppppppppp\n",
      "ppppppppppppppppp\n",
      "pppppppppppppppppppppppppppppppppppppp\n",
      "ppppppppppppppppppppppppppppppp\n",
      "[ppppppppppppppppppppppppp\n",
      "ppppppppppppppppppppppppppp\n",
      "pppppppppppppppppppppppp\n",
      "pppppppppppppppppppppppppp\n",
      "ppppppppppppppppppppp\n",
      "ppppppppppppppppppppppppppppppppppp\n",
      "ppppppppppppppppppppp\n",
      "abra ka dabra gili gili bush\n"
     ]
    }
   ],
   "source": [
    "f=open(\"lab.txt\",\"r\")\n",
    "print(f.read())\n",
    "f.close()"
   ]
  },
  {
   "cell_type": "markdown",
   "id": "b4e498bd-e6f6-441d-8adf-a0e67f11670e",
   "metadata": {},
   "source": [
    "## return 5 char"
   ]
  },
  {
   "cell_type": "code",
   "execution_count": 16,
   "id": "714719c3-8898-4b28-b6aa-614547a1e134",
   "metadata": {},
   "outputs": [
    {
     "name": "stdout",
     "output_type": "stream",
     "text": [
      "hi my\n"
     ]
    }
   ],
   "source": [
    "f=open(\"lab.txt\",\"r\")\n",
    "print(f.read(5))\n",
    "f.close()"
   ]
  },
  {
   "cell_type": "markdown",
   "id": "04b816eb-39a9-4a60-8446-ae118388ce5f",
   "metadata": {},
   "source": [
    "# Read 2 line"
   ]
  },
  {
   "cell_type": "code",
   "execution_count": 18,
   "id": "2e68d721-e5bf-48a4-9c0f-c8c2144ef664",
   "metadata": {},
   "outputs": [
    {
     "name": "stdout",
     "output_type": "stream",
     "text": [
      "hi my name is lab\n",
      "\n",
      "im lab of Ai&ds dept\n",
      "\n"
     ]
    }
   ],
   "source": [
    "f=open(\"lab.txt\",\"r\")\n",
    "print(f.readline())\n",
    "print(f.readline())\n",
    "f.close()"
   ]
  },
  {
   "cell_type": "markdown",
   "id": "c3450145-cf9d-44c5-bb42-d04837091ba8",
   "metadata": {},
   "source": [
    "### read using loop"
   ]
  },
  {
   "cell_type": "code",
   "execution_count": 34,
   "id": "923a3924-010d-432c-b6ac-c5dd85fa76f0",
   "metadata": {
    "scrolled": true
   },
   "outputs": [
    {
     "name": "stdout",
     "output_type": "stream",
     "text": [
      "hi my name is lab\n",
      "im lab of Ai&ds dept\n",
      "my lab has many desktop\n",
      "its centralised AC\n",
      "ppppppppppppppppppppppp\n",
      "ppppppppppppppppp\n",
      "pppppppppppppppppppppppppppppppppppppp\n",
      "ppppppppppppppppppppppppppppppp\n",
      "[ppppppppppppppppppppppppp\n",
      "ppppppppppppppppppppppppppp\n",
      "pppppppppppppppppppppppp\n",
      "pppppppppppppppppppppppppp\n",
      "ppppppppppppppppppppp\n",
      "ppppppppppppppppppppppppppppppppppp\n",
      "ppppppppppppppppppppp\n",
      "abra ka dabra gili gili bush\n"
     ]
    }
   ],
   "source": [
    "f=open(\"lab.txt\",\"r\")\n",
    "for line in f:\n",
    "  print(line.strip())\n",
    "f.close()"
   ]
  },
  {
   "cell_type": "code",
   "execution_count": 33,
   "id": "01c47cfd-8823-44e8-b690-5f5f189fd0c1",
   "metadata": {},
   "outputs": [
    {
     "ename": "IndentationError",
     "evalue": "unindent does not match any outer indentation level (<string>, line 5)",
     "output_type": "error",
     "traceback": [
      "\u001b[1;36m  File \u001b[1;32m<string>:5\u001b[1;36m\u001b[0m\n\u001b[1;33m    print(line.strip())\u001b[0m\n\u001b[1;37m                       ^\u001b[0m\n\u001b[1;31mIndentationError\u001b[0m\u001b[1;31m:\u001b[0m unindent does not match any outer indentation level\n"
     ]
    }
   ],
   "source": [
    "f=open(\"lab.txt\",\"r\")\n",
    "for i, line in enumerate(f):\n",
    "    if i==2:\n",
    "        break\n",
    "  print(line.strip())"
   ]
  },
  {
   "cell_type": "markdown",
   "id": "8e33e051-3cbd-4dee-a0fd-9e067888da90",
   "metadata": {},
   "source": [
    "# Pandas"
   ]
  },
  {
   "cell_type": "code",
   "execution_count": 35,
   "id": "ec67fbe2-a236-443d-b9b5-778f7a5c6c14",
   "metadata": {},
   "outputs": [],
   "source": [
    "import pandas as pd"
   ]
  },
  {
   "cell_type": "markdown",
   "id": "e058ff2c-6c53-40b4-ac26-5434a67778df",
   "metadata": {},
   "source": [
    "print(pd.__version__)\n",
    "mydataset = {\n",
    "    'cars': [\"BMW\", \"Volvo\", \"Ford\"],\n",
    "    'passing': [3, 7, 2]\n",
    "}\n",
    "myvar = pd.DataFrame(mydataset)\n",
    "print(myvar)"
   ]
  },
  {
   "cell_type": "markdown",
   "id": "f61d68ee-852e-464e-bf9b-6f0559604153",
   "metadata": {},
   "source": [
    "## create lables"
   ]
  },
  {
   "cell_type": "code",
   "execution_count": 43,
   "id": "c3a72cc1-e2d3-4147-a7be-a5adc289f127",
   "metadata": {},
   "outputs": [
    {
     "name": "stdout",
     "output_type": "stream",
     "text": [
      "x    1\n",
      "y    7\n",
      "z    2\n",
      "dtype: int64\n",
      "7\n"
     ]
    }
   ],
   "source": [
    "a = [1,7,2]\n",
    "myvar = pd.Series(a, index = [\"x\", \"y\", \"z\"])\n",
    "print(myvar)\n",
    "print(myvar[\"y\"])"
   ]
  },
  {
   "cell_type": "markdown",
   "id": "7942163e-7069-442a-a159-a6e3310897eb",
   "metadata": {},
   "source": [
    "## Pandas series from directoy"
   ]
  },
  {
   "cell_type": "code",
   "execution_count": 44,
   "id": "ee7faf95-ec46-41c3-bece-3d28bfe73203",
   "metadata": {},
   "outputs": [
    {
     "name": "stdout",
     "output_type": "stream",
     "text": [
      "day1    420\n",
      "day2    380\n",
      "day3    390\n",
      "dtype: int64\n"
     ]
    }
   ],
   "source": [
    "calories = {\"day1\":420, \"day2\":380, \"day3\":390}\n",
    "myvar = pd.Series(calories)\n",
    "print(myvar)"
   ]
  },
  {
   "cell_type": "markdown",
   "id": "3385028f-410e-4fe4-b41e-a78c6a792fbf",
   "metadata": {},
   "source": [
    "## create DataFramne from two series "
   ]
  },
  {
   "cell_type": "code",
   "execution_count": 45,
   "id": "6aabd8e3-12d5-4759-998c-e0cc1a789420",
   "metadata": {},
   "outputs": [
    {
     "name": "stdout",
     "output_type": "stream",
     "text": [
      "   calories  duration\n",
      "0       420       420\n",
      "1       380       380\n",
      "2       390       390\n"
     ]
    }
   ],
   "source": [
    "data = {\n",
    "    \"calories\": [420, 380, 390],\n",
    "    \"duration\": [420, 380, 390]\n",
    "}\n",
    "df = pd.DataFrame(data)\n",
    "print(df)"
   ]
  },
  {
   "cell_type": "markdown",
   "id": "42014718-91a3-49cd-bcf8-0e713697c0af",
   "metadata": {},
   "source": [
    "## list of names to give each row a name"
   ]
  },
  {
   "cell_type": "code",
   "execution_count": 46,
   "id": "160d6f1f-4355-46cf-a58a-57e778e03a03",
   "metadata": {},
   "outputs": [
    {
     "name": "stdout",
     "output_type": "stream",
     "text": [
      "      calories  duration\n",
      "day1       420        50\n",
      "day2       380        40\n",
      "day3       390        45\n",
      "calories    380\n",
      "duration     40\n",
      "Name: day2, dtype: int64\n"
     ]
    }
   ],
   "source": [
    "data = {\n",
    "    \"calories\": [420, 380, 390],\n",
    "    \"duration\": [50, 40, 45]\n",
    "}\n",
    "df = pd.DataFrame(data, index = [\"day1\", \"day2\", \"day3\"])\n",
    "print(df)\n",
    "print(df.loc[\"day2\"])"
   ]
  },
  {
   "cell_type": "markdown",
   "id": "db0f1ff3-ae66-4fbc-b56a-12d58fbf7d84",
   "metadata": {},
   "source": [
    "# NEW FILE"
   ]
  },
  {
   "cell_type": "code",
   "execution_count": 68,
   "id": "6b1c28fc-fd3a-4349-9330-6108e81532d8",
   "metadata": {},
   "outputs": [
    {
     "name": "stdout",
     "output_type": "stream",
     "text": [
      "append\n"
     ]
    }
   ],
   "source": [
    "\n",
    "\n",
    "with open(\"hello.txt\", \"a\")as f:\n",
    "    f.write(\"this is line 3\\n\")\n",
    "    f.write(\"this is line 4\\n\")\n",
    "    print(\"append\")\n",
    "    \n"
   ]
  },
  {
   "cell_type": "code",
   "execution_count": 74,
   "id": "15956844-4d1a-4c14-ae84-5bb696966e0f",
   "metadata": {},
   "outputs": [
    {
     "name": "stdout",
     "output_type": "stream",
     "text": [
      "hi my name is hello world \n",
      "my dept is Ai&ds \n",
      "im from 3rd sem\n",
      "im in 2nd year\n",
      "my fav langue is java\n",
      "this is line 1\n",
      "this is line 2\n",
      "this is line 1\n",
      "this is line 2\n",
      "this is line 1\n",
      "this is line 2\n",
      "this is line 1\n",
      "this is line 2\n",
      "this is line 1\n",
      "this is line 2\n",
      "this is line 1\n",
      "this is line 2\n",
      "this is line 3\n",
      "this is line 4\n",
      "this is line 3\n",
      "this is line 4\n",
      "this is line 3\n",
      "this is line 4\n",
      "this is line 3\n",
      "this is line 4\n",
      "this is line 3\n",
      "this is line 4\n",
      "this is line 3\n",
      "this is line 4\n",
      "this is line 3\n",
      "this is line 4\n",
      "this is line 3\n",
      "this is line 4\n",
      "this is line 3\n",
      "this is line 4\n",
      "\n"
     ]
    }
   ],
   "source": [
    "f=open(\"hello.txt\",\"r\")\n",
    "print(f.read())\n",
    "f.close()"
   ]
  },
  {
   "cell_type": "code",
   "execution_count": null,
   "id": "bdab539d-e3e1-412f-a576-e844ab1b4131",
   "metadata": {},
   "outputs": [],
   "source": [
    "with open "
   ]
  }
 ],
 "metadata": {
  "kernelspec": {
   "display_name": "Python 3 (ipykernel)",
   "language": "python",
   "name": "python3"
  },
  "language_info": {
   "codemirror_mode": {
    "name": "ipython",
    "version": 3
   },
   "file_extension": ".py",
   "mimetype": "text/x-python",
   "name": "python",
   "nbconvert_exporter": "python",
   "pygments_lexer": "ipython3",
   "version": "3.12.4"
  }
 },
 "nbformat": 4,
 "nbformat_minor": 5
}
