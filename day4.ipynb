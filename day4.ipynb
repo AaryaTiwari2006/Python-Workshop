{
 "cells": [
  {
   "cell_type": "code",
   "execution_count": 1,
   "id": "19329b4a-578f-4e9d-8559-79ceab7f2a8b",
   "metadata": {},
   "outputs": [
    {
     "name": "stdout",
     "output_type": "stream",
     "text": [
      "2.3.1\n",
      "    cars  passing\n",
      "0    BMW        3\n",
      "1  Volvo        7\n",
      "2   Ford        2\n"
     ]
    }
   ],
   "source": [
    "import pandas as pd\n",
    "print(pd.__version__)\n",
    "mydataset = {\n",
    "    'cars': [\"BMW\", \"Volvo\", \"Ford\"],\n",
    "    'passing': [3,7,2]}\n",
    "myvar = pd.DataFrame(mydataset)\n",
    "print(myvar)"
   ]
  },
  {
   "cell_type": "code",
   "execution_count": 2,
   "id": "24f882cc-df35-4534-81c8-f5eba093d6e4",
   "metadata": {},
   "outputs": [
    {
     "name": "stdout",
     "output_type": "stream",
     "text": [
      "day1    420\n",
      "day2    380\n",
      "day3    390\n",
      "dtype: int64\n"
     ]
    }
   ],
   "source": [
    "calories = {\"day1\": 420, \"day2\": 380, \"day3\": 390}\n",
    "myvar = pd.Series(calories)\n",
    "print(myvar)"
   ]
  },
  {
   "cell_type": "code",
   "execution_count": 6,
   "id": "b39a7e5d-29c3-4455-8316-77b653bace79",
   "metadata": {},
   "outputs": [
    {
     "ename": "NameError",
     "evalue": "name 'url' is not defined",
     "output_type": "error",
     "traceback": [
      "\u001b[31m---------------------------------------------------------------------------\u001b[39m",
      "\u001b[31mNameError\u001b[39m                                 Traceback (most recent call last)",
      "\u001b[36mCell\u001b[39m\u001b[36m \u001b[39m\u001b[32mIn[6]\u001b[39m\u001b[32m, line 1\u001b[39m\n\u001b[32m----> \u001b[39m\u001b[32m1\u001b[39m df = pd.read_csv(\u001b[43murl\u001b[49m)\n\u001b[32m      2\u001b[39m ptintdf\n",
      "\u001b[31mNameError\u001b[39m: name 'url' is not defined"
     ]
    }
   ],
   "source": [
    "df = pd.read_csv(url)\n",
    "ptintdf"
   ]
  },
  {
   "cell_type": "code",
   "execution_count": 7,
   "id": "853ead9f-f442-4959-8aa9-d71c79f83c86",
   "metadata": {},
   "outputs": [
    {
     "ename": "SyntaxError",
     "evalue": "invalid syntax (2387096340.py, line 1)",
     "output_type": "error",
     "traceback": [
      "  \u001b[36mCell\u001b[39m\u001b[36m \u001b[39m\u001b[32mIn[7]\u001b[39m\u001b[32m, line 1\u001b[39m\n\u001b[31m    \u001b[39m\u001b[31mcod = d0-,\u001b[39m\n             ^\n\u001b[31mSyntaxError\u001b[39m\u001b[31m:\u001b[39m invalid syntax\n"
     ]
    }
   ],
   "source": [
    "cod = d0-,"
   ]
  },
  {
   "cell_type": "code",
   "execution_count": 31,
   "id": "daccaa9f-8fbe-442e-9e89-14c111b82e58",
   "metadata": {},
   "outputs": [
    {
     "name": "stdout",
     "output_type": "stream",
     "text": [
      "enter a line text:\n"
     ]
    },
    {
     "name": "stdin",
     "output_type": "stream",
     "text": [
      " hi @aarya\n"
     ]
    },
    {
     "name": "stdout",
     "output_type": "stream",
     "text": [
      "words ['hi', '@aarya']\n",
      "counting...\n",
      "Counts {'hi': 1, '@aarya': 1}\n",
      "words with special char(# or @): ['@aarya']\n"
     ]
    }
   ],
   "source": [
    "counts = dict()\n",
    "print('enter a line text:')\n",
    "line = input('')\n",
    "words = line.split()\n",
    "print('words', words)\n",
    "\n",
    "print('counting...')\n",
    "for word in words:\n",
    "    counts[word] = counts.get(word,0)+1\n",
    "print('Counts', counts)\n",
    "special_char = ['#','@']\n",
    "special_found = []\n",
    "for word in words:\n",
    "    for char in special_char:\n",
    "        if char in word:\n",
    "            special_found.append(word)\n",
    "if special_found:\n",
    "    print('words with special char(# or @):', special_found)\n",
    "else:\n",
    "    print('no special char (# or @)')"
   ]
  },
  {
   "cell_type": "code",
   "execution_count": null,
   "id": "f15b0318-29a8-4306-b93c-059b6b344f00",
   "metadata": {},
   "outputs": [],
   "source": []
  }
 ],
 "metadata": {
  "kernelspec": {
   "display_name": "Python 3 (ipykernel)",
   "language": "python",
   "name": "python3"
  },
  "language_info": {
   "codemirror_mode": {
    "name": "ipython",
    "version": 3
   },
   "file_extension": ".py",
   "mimetype": "text/x-python",
   "name": "python",
   "nbconvert_exporter": "python",
   "pygments_lexer": "ipython3",
   "version": "3.13.5"
  }
 },
 "nbformat": 4,
 "nbformat_minor": 5
}
