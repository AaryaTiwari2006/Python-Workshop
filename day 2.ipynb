{
 "cells": [
  {
   "cell_type": "code",
   "execution_count": 9,
   "id": "30a972d1-594a-4241-a0a8-189ca4524043",
   "metadata": {},
   "outputs": [
    {
     "name": "stdout",
     "output_type": "stream",
     "text": [
      "before -1\n",
      "9 9\n",
      "41 41\n",
      "41 12\n",
      "41 3\n",
      "74 74\n",
      "74 15\n",
      "After 74\n"
     ]
    }
   ],
   "source": [
    "largest_so_far= -1\n",
    "print('before', largest_so_far)\n",
    "for the_num in [9,41,12,3,74,15]:\n",
    "    if the_num > largest_so_far:\n",
    "        largest_so_far = the_num\n",
    "    print(largest_so_far, the_num)\n",
    "print('After', largest_so_far)  "
   ]
  },
  {
   "cell_type": "code",
   "execution_count": 14,
   "id": "49468b5f-ef91-444c-994c-8348a3e9d215",
   "metadata": {},
   "outputs": [
    {
     "name": "stdout",
     "output_type": "stream",
     "text": [
      "before 0\n",
      "9 9\n",
      "50 41\n",
      "62 12\n",
      "65 3\n",
      "139 74\n",
      "154 15\n",
      "after 154\n"
     ]
    }
   ],
   "source": [
    "zork=0\n",
    "print('before',zork)\n",
    "for thing in [9,41,12,3,74,15]:\n",
    "  zork = zork+thing\n",
    "  print(zork, thing)\n",
    "print('after', zork)\n"
   ]
  },
  {
   "cell_type": "code",
   "execution_count": null,
   "id": "aca9b5bc-4111-410e-af42-df692e1542b4",
   "metadata": {},
   "outputs": [],
   "source": []
  }
 ],
 "metadata": {
  "kernelspec": {
   "display_name": "Python 3 (ipykernel)",
   "language": "python",
   "name": "python3"
  },
  "language_info": {
   "codemirror_mode": {
    "name": "ipython",
    "version": 3
   },
   "file_extension": ".py",
   "mimetype": "text/x-python",
   "name": "python",
   "nbconvert_exporter": "python",
   "pygments_lexer": "ipython3",
   "version": "3.13.5"
  }
 },
 "nbformat": 4,
 "nbformat_minor": 5
}
