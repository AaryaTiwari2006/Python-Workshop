{
 "cells": [
  {
   "cell_type": "code",
   "execution_count": null,
   "id": "cc1405e4-0c5e-4228-b65a-c38702994784",
   "metadata": {},
   "outputs": [],
   "source": []
  }
 ],
 "metadata": {
  "kernelspec": {
   "display_name": "",
   "name": ""
  },
  "language_info": {
   "name": ""
  }
 },
 "nbformat": 4,
 "nbformat_minor": 5
}
